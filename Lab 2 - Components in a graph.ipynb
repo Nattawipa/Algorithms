{
 "cells": [
  {
   "cell_type": "code",
   "execution_count": null,
   "id": "1a8e33b7",
   "metadata": {},
   "outputs": [],
   "source": [
    "from collections import deque, defaultdict\n",
    "\n",
    "def bfs(g, s):\n",
    "    visited = set()\n",
    "    q = deque([s])\n",
    "    \n",
    "    while q:\n",
    "        v = q.popleft()\n",
    "        visited.add(v)\n",
    "        for adj in g[v]:\n",
    "            if adj not in visited and adj not in q:\n",
    "                q.append(adj)\n",
    "    return visited\n",
    "        \n",
    "def con_components(g):\n",
    "    visited = set()\n",
    "    components = []\n",
    "    for s in g.keys():\n",
    "        if s not in visited:\n",
    "            nodes = bfs(g, s)\n",
    "            visited |= nodes\n",
    "            components.append(nodes)\n",
    "    return components\n",
    "\n",
    "if __name__ == '__main__':\n",
    "    n = int(input())\n",
    "    g = defaultdict(list)\n",
    "    for _ in range(n):\n",
    "        a,b = map(int, input().split())\n",
    "        g[a].append(b)\n",
    "        g[b].append(a)\n",
    "    c = con_components(g)\n",
    "    lens = list(map(len, c))\n",
    "    print(min(lens), max(lens))"
   ]
  }
 ],
 "metadata": {
  "kernelspec": {
   "display_name": "Python 3",
   "language": "python",
   "name": "python3"
  },
  "language_info": {
   "codemirror_mode": {
    "name": "ipython",
    "version": 3
   },
   "file_extension": ".py",
   "mimetype": "text/x-python",
   "name": "python",
   "nbconvert_exporter": "python",
   "pygments_lexer": "ipython3",
   "version": "3.8.8"
  }
 },
 "nbformat": 4,
 "nbformat_minor": 5
}
