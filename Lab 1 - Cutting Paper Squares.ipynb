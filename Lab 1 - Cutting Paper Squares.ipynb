{
 "cells": [
  {
   "cell_type": "markdown",
   "id": "21e6a3a8",
   "metadata": {},
   "source": [
    "## Lab 1 - Cutting Paper Squares\n",
    "#### ༼ つ ◕_◕ ༽つ Nattawipa Saetae 6188089"
   ]
  },
  {
   "cell_type": "code",
   "execution_count": null,
   "id": "2a2265da",
   "metadata": {},
   "outputs": [],
   "source": [
    "#!/bin/python3\n",
    "\n",
    "import math\n",
    "import os\n",
    "import random\n",
    "import re\n",
    "import sys\n",
    "\n",
    "#\n",
    "# Complete the 'solve' function below.\n",
    "#\n",
    "# The function is expected to return a LONG_INTEGER.\n",
    "# The function accepts following parameters:\n",
    "#  1. INTEGER n\n",
    "#  2. INTEGER m\n",
    "#\n",
    "\n",
    "def solve(n, m):\n",
    "    # Write your code here\n",
    "    return (n * m) - 1\n",
    "\n",
    "if __name__ == '__main__':\n",
    "    fptr = open(os.environ['OUTPUT_PATH'], 'w')\n",
    "\n",
    "    first_multiple_input = input().rstrip().split()\n",
    "\n",
    "    n = int(first_multiple_input[0])\n",
    "\n",
    "    m = int(first_multiple_input[1])\n",
    "\n",
    "    result = solve(n, m)\n",
    "\n",
    "    fptr.write(str(result) + '\\n')\n",
    "\n",
    "    fptr.close()\n"
   ]
  }
 ],
 "metadata": {
  "kernelspec": {
   "display_name": "Python 3",
   "language": "python",
   "name": "python3"
  },
  "language_info": {
   "codemirror_mode": {
    "name": "ipython",
    "version": 3
   },
   "file_extension": ".py",
   "mimetype": "text/x-python",
   "name": "python",
   "nbconvert_exporter": "python",
   "pygments_lexer": "ipython3",
   "version": "3.8.8"
  }
 },
 "nbformat": 4,
 "nbformat_minor": 5
}
